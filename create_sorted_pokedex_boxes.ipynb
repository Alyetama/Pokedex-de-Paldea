{
 "cells": [
  {
   "cell_type": "code",
   "execution_count": 1,
   "id": "fcf9f903",
   "metadata": {},
   "outputs": [],
   "source": [
    "import pandas as pd\n",
    "from selenium import webdriver\n",
    "from selenium.webdriver.chrome.service import Service\n",
    "from selenium.webdriver.common.by import By\n",
    "from selenium.webdriver.common.keys import Keys"
   ]
  },
  {
   "cell_type": "code",
   "execution_count": 2,
   "id": "3121d596",
   "metadata": {},
   "outputs": [],
   "source": [
    "service = Service()\n",
    "options = webdriver.ChromeOptions()\n",
    "driver = webdriver.Chrome(options=options, service=service)\n",
    "\n",
    "driver.get('https://www.margxt.fr/le-pokedex-de-paldea-liste-des-pokemon-et-ou-les-trouver-dans-pokemon-ecarlate-et-violet/')"
   ]
  },
  {
   "cell_type": "code",
   "execution_count": 3,
   "id": "02c71fcc",
   "metadata": {},
   "outputs": [],
   "source": [
    "table = driver.find_element(By.TAG_NAME, 'table').find_element(By.TAG_NAME, 'tbody')\n",
    "\n",
    "pokedex = []\n",
    "for e in table.find_elements(By.TAG_NAME, 'tr'):\n",
    "    poke = e.text.split('\\n')[:2]\n",
    "    poke[1] = poke[1].split(' ')[0]\n",
    "    if poke[0].isnumeric():\n",
    "        img = e.find_element(By.TAG_NAME, 'img').get_attribute('src')\n",
    "        poke.append(img)\n",
    "        pokedex.append(tuple(poke))"
   ]
  },
  {
   "cell_type": "code",
   "execution_count": 4,
   "id": "8e47b9ff",
   "metadata": {},
   "outputs": [],
   "source": [
    "# Missing from table elements\n",
    "pokedex[50] = ('51', 'Mustébouée', 'https://www.margxt.fr/wp-content/uploads/2022/02/Muste%CC%81boue%CC%81e.png')\n",
    "pokedex[354] = ('355', 'Polarhume', 'https://www.margxt.fr/wp-content/uploads/2022/10/Polarhume.png')"
   ]
  },
  {
   "cell_type": "code",
   "execution_count": 5,
   "id": "c9f59b1f",
   "metadata": {},
   "outputs": [],
   "source": [
    "df = pd.DataFrame(pokedex, columns=['num', 'name', 'image'])\n",
    "df.to_csv('Pokédex de Paldea.csv', index=False)"
   ]
  },
  {
   "cell_type": "code",
   "execution_count": 6,
   "id": "a04b9c79",
   "metadata": {},
   "outputs": [],
   "source": [
    "_pokedex = [f'({x[0]})<br>{x[1]}<br><img decoding=\"async\" loading=\"lazy\" width=\"50\" height=\"50\" style=\"width: 50px;\" src=\"{x[2]}\" alt=\"\">' for x in pokedex]"
   ]
  },
  {
   "cell_type": "code",
   "execution_count": 7,
   "id": "61117862",
   "metadata": {},
   "outputs": [],
   "source": [
    "n = 30\n",
    "pokedex_chunks = [_pokedex[i:i + n] for i in range(0, len(_pokedex), n)]"
   ]
  },
  {
   "cell_type": "code",
   "execution_count": 8,
   "id": "32dceb29",
   "metadata": {},
   "outputs": [],
   "source": [
    "html_body = ''\n",
    "html_body += '''<!doctype html>\n",
    "<html lang=\"en\">\n",
    "  <head>\n",
    "    <!-- Required meta tags -->\n",
    "    <meta charset=\"utf-8\">\n",
    "    <meta name=\"viewport\" content=\"width=device-width, initial-scale=1, shrink-to-fit=no\">\n",
    "    <!-- Bootstrap CSS -->\n",
    "    <link rel=\"stylesheet\" href=\"https://cdn.jsdelivr.net/npm/bootstrap@4.0.0/dist/css/bootstrap.min.css\" integrity=\"sha384-Gn5384xqQ1aoWXA+058RXPxPg6fy4IWvTNh0E263XmFcJlSAwiGgFAW/dAiS6JXm\" crossorigin=\"anonymous\">\n",
    "  </head>\n",
    "  <style type=\"text/css\">\n",
    "  table td:hover {\n",
    "  background-color: rgba(2, 123, 255);\n",
    "  }\n",
    "  td {\n",
    "  text-align: center;\n",
    "  }\n",
    "  th {\n",
    "  background-color: #228082;\n",
    "\n",
    "  text-align: center;\n",
    "  }\n",
    "  table {\n",
    "      background-image: linear-gradient(to left bottom, #2ed8cc, #18cbcb, #09bfc9, #10b2c4, #1fa5be);\n",
    "  }\n",
    "  </style>\n",
    "\n",
    "'''"
   ]
  },
  {
   "cell_type": "code",
   "execution_count": 9,
   "id": "3f07b5be",
   "metadata": {
    "scrolled": false
   },
   "outputs": [],
   "source": [
    "for idx, chunk in enumerate(pokedex_chunks, start=1):\n",
    "    n = 6\n",
    "    l2 = [chunk[i:i + n] for i in range(0, len(chunk), n)]\n",
    "    df = pd.DataFrame(l2)\n",
    "    df.index += 1 \n",
    "    df.columns += 1\n",
    "    html_body += f'<h4 align=\"center\">Boîte {idx}</h4>\\n'\n",
    "    html_body += df.to_html()"
   ]
  },
  {
   "cell_type": "code",
   "execution_count": 10,
   "id": "94ed2c1b",
   "metadata": {},
   "outputs": [],
   "source": [
    "html_body += '''\n",
    "    <!-- Optional JavaScript -->\n",
    "    <!-- jQuery first, then Popper.js, then Bootstrap JS -->\n",
    "    <script src=\"https://code.jquery.com/jquery-3.2.1.slim.min.js\" integrity=\"sha384-KJ3o2DKtIkvYIK3UENzmM7KCkRr/rE9/Qpg6aAZGJwFDMVNA/GpGFF93hXpG5KkN\" crossorigin=\"anonymous\"></script>\n",
    "    <script src=\"https://cdn.jsdelivr.net/npm/popper.js@1.12.9/dist/umd/popper.min.js\" integrity=\"sha384-ApNbgh9B+Y1QKtv3Rn7W3mgPxhU9K/ScQsAP7hUibX39j7fakFPskvXusvfa0b4Q\" crossorigin=\"anonymous\"></script>\n",
    "    <script src=\"https://cdn.jsdelivr.net/npm/bootstrap@4.0.0/dist/js/bootstrap.min.js\" integrity=\"sha384-JZR6Spejh4U02d8jOt6vLEHfe/JQGiRRSQQxSfFWpi1MquVdAyjUar5+76PVCmYl\" crossorigin=\"anonymous\"></script>\n",
    "  </body>\n",
    "  </html>\n",
    "'''\n",
    "\n",
    "html_body = html_body.replace('class=\"dataframe\"', 'class=\"table table-dark table-hover\"').replace('&lt;', '<').replace('&gt;', '>').replace('None', '')\n"
   ]
  },
  {
   "cell_type": "code",
   "execution_count": 12,
   "id": "db3e885d",
   "metadata": {},
   "outputs": [],
   "source": [
    "with open('Pokédex de Paldea.html', 'w') as f:\n",
    "    f.write(html_body)"
   ]
  },
  {
   "cell_type": "code",
   "execution_count": null,
   "id": "d1de228f",
   "metadata": {},
   "outputs": [],
   "source": []
  }
 ],
 "metadata": {
  "kernelspec": {
   "display_name": "Python 3 (ipykernel)",
   "language": "python",
   "name": "python3"
  },
  "language_info": {
   "codemirror_mode": {
    "name": "ipython",
    "version": 3
   },
   "file_extension": ".py",
   "mimetype": "text/x-python",
   "name": "python",
   "nbconvert_exporter": "python",
   "pygments_lexer": "ipython3",
   "version": "3.10.8"
  }
 },
 "nbformat": 4,
 "nbformat_minor": 5
}
